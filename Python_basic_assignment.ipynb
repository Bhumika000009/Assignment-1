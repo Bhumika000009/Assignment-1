{
  "nbformat": 4,
  "nbformat_minor": 0,
  "metadata": {
    "colab": {
      "provenance": []
    },
    "kernelspec": {
      "name": "python3",
      "display_name": "Python 3"
    },
    "language_info": {
      "name": "python"
    }
  },
  "cells": [
    {
      "cell_type": "markdown",
      "source": [
        "# Q1- Explain the key features of Python that make it a popular choice for programming."
      ],
      "metadata": {
        "id": "OQzTrOaa_gDP"
      }
    },
    {
      "cell_type": "code",
      "execution_count": null,
      "metadata": {
        "colab": {
          "base_uri": "https://localhost:8080/"
        },
        "id": "VtXu01664e79",
        "outputId": "af684362-eebc-4fb4-d78b-443a5c60541c"
      },
      "outputs": [
        {
          "output_type": "stream",
          "name": "stdout",
          "text": [
            "(1, 2, 3, 4, 5)\n"
          ]
        }
      ],
      "source": [
        "'''\n",
        "Answer 1\n",
        "Key Features of python:\n",
        "1. Readability and Ease of Use: Python emphasizes code readability with its clear syntax and use of indentation. This makes it easier to learn and understand, especially for beginners.\n",
        "2. Extensive Libraries and Frameworks: Python boasts a vast collection of libraries and frameworks for various tasks, including web development (Django, Flask), data science (NumPy, Pandas, Scikit-learn), machine learning (TensorFlow, PyTorch), and more. These pre-built modules simplify development and save time.\n",
        "3. Versatility and Flexibility: Python is a general-purpose language used for web development, data analysis, scripting, automation, scientific computing, and more. Its versatility makes it suitable for a wide range of applications.\n",
        "4. Large and Active Community: Python has a large and active community of developers who contribute to its development, provide support, and create a wealth of resources. This ensures that you can find solutions and assistance when needed.\n",
        "5. Cross-Platform Compatibility: Python runs on various operating systems like Windows, macOS, and Linux, making it portable and accessible to a wider audience.\n",
        "'''"
      ]
    },
    {
      "cell_type": "code",
      "source": [
        "from google.colab import drive\n",
        "drive.mount('/content/drive')"
      ],
      "metadata": {
        "id": "xPPutPuyH2N7"
      },
      "execution_count": null,
      "outputs": []
    },
    {
      "cell_type": "markdown",
      "source": [
        "# Q2 - Describe the role of predefined keywords in Python and provide examples of how they are used in a program."
      ],
      "metadata": {
        "id": "KWUoRMsNA8Cl"
      }
    },
    {
      "cell_type": "code",
      "source": [
        "'''\n",
        "Answer 2\n",
        "Role of predefined keywords in python:\n",
        " In python predefined words are those that hold a specif meaning wiyhin the language.\n",
        " Eg. of predifend keywords:-\n",
        "\n",
        "'''\n",
        "\n",
        "a=\"ajay\"\n",
        "type(a)\n",
        "\n",
        "b=(1,2,3,4,5)\n",
        "print(b)\n",
        "\n",
        "input(\"Write your name here\")\n",
        "print(input)\n",
        "\n",
        "weather = \"sunny\"\n",
        "if weather == \"sunny\":\n",
        "    print(\"It's a sunny day\")\n",
        "else:\n",
        "    print(\"It's not a sunny day\")"
      ],
      "metadata": {
        "colab": {
          "base_uri": "https://localhost:8080/"
        },
        "id": "r2SwrcjBA_Q2",
        "outputId": "eaa2de1f-ea99-431e-ee64-cee6e03349dd"
      },
      "execution_count": null,
      "outputs": [
        {
          "metadata": {
            "tags": null
          },
          "name": "stdout",
          "output_type": "stream",
          "text": [
            "(1, 2, 3, 4, 5)\n"
          ]
        }
      ]
    },
    {
      "cell_type": "markdown",
      "source": [
        "# Q3 - Compare and contrast mutable and immutable objects in Python. Provide examples of each."
      ],
      "metadata": {
        "id": "YE5K4nmLADsj"
      }
    },
    {
      "cell_type": "code",
      "source": [
        "#Here in the above codes (type,print,input,if,else) are some predifened keywords\n",
        "\n",
        "'''\n",
        "Answer 3\n",
        "Mutable objects are the one that can be changed after creation (list,dictionries,sets)\n",
        "Immutable objects are the one that cannot be changed after creation(string,tuples)\n",
        "Examples:\n",
        "'''\n",
        "#mutable objects\n",
        "A= [1,2,\"s\",\"mango\"]\n",
        "A[-1]= \"banana\"\n",
        "print(A)\n",
        "\n",
        "\n"
      ],
      "metadata": {
        "id": "HjQ2nqJt9e6K",
        "colab": {
          "base_uri": "https://localhost:8080/"
        },
        "outputId": "1f3a13b6-06cd-4b1f-b3d3-592697544b36"
      },
      "execution_count": null,
      "outputs": [
        {
          "output_type": "stream",
          "name": "stdout",
          "text": [
            "[1, 2, 's', 'banana']\n"
          ]
        }
      ]
    },
    {
      "cell_type": "code",
      "source": [
        "#immutable objects\n",
        "B= (1,2,\"s\",\"mango\")\n",
        "B[-1]= \"banana\"\n",
        "print(B)"
      ],
      "metadata": {
        "colab": {
          "base_uri": "https://localhost:8080/",
          "height": 200
        },
        "id": "MJxNInEVBzIL",
        "outputId": "283b6c25-280e-4732-bb07-fc27aacf69a3"
      },
      "execution_count": null,
      "outputs": [
        {
          "output_type": "error",
          "ename": "TypeError",
          "evalue": "'tuple' object does not support item assignment",
          "traceback": [
            "\u001b[0;31m---------------------------------------------------------------------------\u001b[0m",
            "\u001b[0;31mTypeError\u001b[0m                                 Traceback (most recent call last)",
            "\u001b[0;32m<ipython-input-13-03f6d543d755>\u001b[0m in \u001b[0;36m<cell line: 3>\u001b[0;34m()\u001b[0m\n\u001b[1;32m      1\u001b[0m \u001b[0;31m#immutable objects\u001b[0m\u001b[0;34m\u001b[0m\u001b[0;34m\u001b[0m\u001b[0m\n\u001b[1;32m      2\u001b[0m \u001b[0mB\u001b[0m\u001b[0;34m=\u001b[0m \u001b[0;34m(\u001b[0m\u001b[0;36m1\u001b[0m\u001b[0;34m,\u001b[0m\u001b[0;36m2\u001b[0m\u001b[0;34m,\u001b[0m\u001b[0;34m\"s\"\u001b[0m\u001b[0;34m,\u001b[0m\u001b[0;34m\"mango\"\u001b[0m\u001b[0;34m)\u001b[0m\u001b[0;34m\u001b[0m\u001b[0;34m\u001b[0m\u001b[0m\n\u001b[0;32m----> 3\u001b[0;31m \u001b[0mB\u001b[0m\u001b[0;34m[\u001b[0m\u001b[0;34m-\u001b[0m\u001b[0;36m1\u001b[0m\u001b[0;34m]\u001b[0m\u001b[0;34m=\u001b[0m \u001b[0;34m\"banana\"\u001b[0m\u001b[0;34m\u001b[0m\u001b[0;34m\u001b[0m\u001b[0m\n\u001b[0m\u001b[1;32m      4\u001b[0m \u001b[0mprint\u001b[0m\u001b[0;34m(\u001b[0m\u001b[0mB\u001b[0m\u001b[0;34m)\u001b[0m\u001b[0;34m\u001b[0m\u001b[0;34m\u001b[0m\u001b[0m\n",
            "\u001b[0;31mTypeError\u001b[0m: 'tuple' object does not support item assignment"
          ]
        }
      ]
    },
    {
      "cell_type": "markdown",
      "source": [
        "# Q4 - Discuss the different types of operators in Python and provide examples of how they are used."
      ],
      "metadata": {
        "id": "scSwD9oOAQwI"
      }
    },
    {
      "cell_type": "code",
      "source": [
        "'''\n",
        "Answer 4\n",
        "Different tyoes of operators in python:\n",
        "1. Arithmatic operators: Arithmetic operators are used to perform mathematical operations like addition, subtraction, multiplication, etc\n",
        "2.Comparison Opertaors :It compares 2 values and return a boolean value\n",
        "3.Logical Operator :Logical operators are used to combine conditional statements(and, or, not)\n",
        "4.Assignment Operators: Assignment operators are used to assign values to variables.\n",
        "5.Membership Operators: in and not in are the membership operators in Python. They are used to test whether a value or variable is found in a sequence\n",
        "6.Identity Operators: is and is not are the identity operators in Python. They are used to check if two values (or variables pointing to the same value) are located on the same part of the memory.\n",
        "7.Bitwise Operators: Bitwise operators are used to perform operations on individual bits of the binary representation of numbers.\n",
        "'''\n"
      ],
      "metadata": {
        "id": "9_xGZtz-CZuZ"
      },
      "execution_count": null,
      "outputs": []
    },
    {
      "cell_type": "markdown",
      "source": [
        "##Arithmatic Operators"
      ],
      "metadata": {
        "id": "hP4OAl8JGSmw"
      }
    },
    {
      "cell_type": "code",
      "source": [
        "a=5\n",
        "b=11\n",
        "print(b%a)\n",
        "print(b//a)\n",
        "print(a*b)\n",
        "print(b/a)\n"
      ],
      "metadata": {
        "colab": {
          "base_uri": "https://localhost:8080/"
        },
        "id": "IW75fn6QGZZw",
        "outputId": "620cf6a1-c79b-4722-a26a-a9988b013d61"
      },
      "execution_count": null,
      "outputs": [
        {
          "output_type": "stream",
          "name": "stdout",
          "text": [
            "1\n",
            "2\n",
            "55\n",
            "2.2\n"
          ]
        }
      ]
    },
    {
      "cell_type": "markdown",
      "source": [
        "## Comparison Opertaors"
      ],
      "metadata": {
        "id": "GjgzmC85HMO_"
      }
    },
    {
      "cell_type": "code",
      "source": [
        "z= 123\n",
        "z==123"
      ],
      "metadata": {
        "colab": {
          "base_uri": "https://localhost:8080/"
        },
        "id": "wNOs7GFAHOuz",
        "outputId": "5b5ec1ad-6fd4-46ee-906c-e452b05a6336"
      },
      "execution_count": null,
      "outputs": [
        {
          "output_type": "execute_result",
          "data": {
            "text/plain": [
              "True"
            ]
          },
          "metadata": {},
          "execution_count": 17
        }
      ]
    },
    {
      "cell_type": "code",
      "source": [
        "z!=123"
      ],
      "metadata": {
        "colab": {
          "base_uri": "https://localhost:8080/"
        },
        "id": "VINfk6tPHbIQ",
        "outputId": "bdaeb64d-3044-4785-a257-6910b943b406"
      },
      "execution_count": null,
      "outputs": [
        {
          "output_type": "execute_result",
          "data": {
            "text/plain": [
              "False"
            ]
          },
          "metadata": {},
          "execution_count": 18
        }
      ]
    },
    {
      "cell_type": "markdown",
      "source": [
        "## Logical Operator"
      ],
      "metadata": {
        "id": "M_RKFfKJHiq0"
      }
    },
    {
      "cell_type": "code",
      "source": [
        "x=10\n",
        "x > 0 and x < 10"
      ],
      "metadata": {
        "colab": {
          "base_uri": "https://localhost:8080/"
        },
        "id": "bYuu8IzOHm6e",
        "outputId": "20516447-1f78-498f-c3cf-a29f14c7afde"
      },
      "execution_count": null,
      "outputs": [
        {
          "output_type": "execute_result",
          "data": {
            "text/plain": [
              "False"
            ]
          },
          "metadata": {},
          "execution_count": 21
        }
      ]
    },
    {
      "cell_type": "code",
      "source": [
        "x=10\n",
        "x > 0 or x < 10"
      ],
      "metadata": {
        "colab": {
          "base_uri": "https://localhost:8080/"
        },
        "id": "OvvCCMZrIAHx",
        "outputId": "ac4f6adf-44c2-45c3-a1e6-065ed6413093"
      },
      "execution_count": null,
      "outputs": [
        {
          "output_type": "execute_result",
          "data": {
            "text/plain": [
              "True"
            ]
          },
          "metadata": {},
          "execution_count": 22
        }
      ]
    },
    {
      "cell_type": "code",
      "source": [
        "x=10\n",
        "not(x > 0 and x < 10)"
      ],
      "metadata": {
        "colab": {
          "base_uri": "https://localhost:8080/"
        },
        "id": "JVxieaW9IHad",
        "outputId": "ee08b653-b69b-4aae-e63e-b5699e969bf0"
      },
      "execution_count": null,
      "outputs": [
        {
          "output_type": "execute_result",
          "data": {
            "text/plain": [
              "True"
            ]
          },
          "metadata": {},
          "execution_count": 24
        }
      ]
    },
    {
      "cell_type": "markdown",
      "source": [
        "## Assignment Operators"
      ],
      "metadata": {
        "id": "B1UjH-AnITir"
      }
    },
    {
      "cell_type": "code",
      "source": [
        "a=2\n",
        "a+=4\n",
        "print(a)"
      ],
      "metadata": {
        "colab": {
          "base_uri": "https://localhost:8080/"
        },
        "id": "caK5m32KIWxR",
        "outputId": "76f05e68-3f7d-446e-fe59-19afc02b6348"
      },
      "execution_count": null,
      "outputs": [
        {
          "output_type": "stream",
          "name": "stdout",
          "text": [
            "6\n"
          ]
        }
      ]
    },
    {
      "cell_type": "markdown",
      "source": [
        "## Membership Operators"
      ],
      "metadata": {
        "id": "fw_Z_eQCIj0_"
      }
    },
    {
      "cell_type": "code",
      "source": [
        "a=\"Shyam\"\n",
        "\"am\" in a"
      ],
      "metadata": {
        "colab": {
          "base_uri": "https://localhost:8080/"
        },
        "id": "fQ97FkHuI1ib",
        "outputId": "8336a9cf-1dd4-4897-a69f-bbfbc59d5fe1"
      },
      "execution_count": null,
      "outputs": [
        {
          "output_type": "execute_result",
          "data": {
            "text/plain": [
              "True"
            ]
          },
          "metadata": {},
          "execution_count": 28
        }
      ]
    },
    {
      "cell_type": "markdown",
      "source": [
        "## Identity Operators"
      ],
      "metadata": {
        "id": "-nTI0TndJEPl"
      }
    },
    {
      "cell_type": "code",
      "source": [
        "a=1\n",
        "b=2\n",
        "a is not b"
      ],
      "metadata": {
        "colab": {
          "base_uri": "https://localhost:8080/"
        },
        "id": "foaOjzv7JISj",
        "outputId": "0ba64cf1-fc85-4b8e-b924-737b0f73bb78"
      },
      "execution_count": null,
      "outputs": [
        {
          "output_type": "execute_result",
          "data": {
            "text/plain": [
              "True"
            ]
          },
          "metadata": {},
          "execution_count": 29
        }
      ]
    },
    {
      "cell_type": "code",
      "source": [
        "a=1\n",
        "b=a\n",
        "a is b"
      ],
      "metadata": {
        "colab": {
          "base_uri": "https://localhost:8080/"
        },
        "id": "zPRWnHYhJOkm",
        "outputId": "c975275d-5a81-4d56-aa32-37c7e46a1e5d"
      },
      "execution_count": null,
      "outputs": [
        {
          "output_type": "execute_result",
          "data": {
            "text/plain": [
              "True"
            ]
          },
          "metadata": {},
          "execution_count": 30
        }
      ]
    },
    {
      "cell_type": "markdown",
      "source": [
        "## Bitwise Operators"
      ],
      "metadata": {
        "id": "_pB6faePJbvZ"
      }
    },
    {
      "cell_type": "markdown",
      "source": [
        "1.Bitwise - and /or"
      ],
      "metadata": {
        "id": "YvCRksL3Kk3Y"
      }
    },
    {
      "cell_type": "code",
      "source": [
        "x=2\n",
        "y=3\n",
        "x & y"
      ],
      "metadata": {
        "colab": {
          "base_uri": "https://localhost:8080/"
        },
        "id": "2HJfhkuLKnr_",
        "outputId": "8ce8e8bb-7d09-4a01-c736-4f5d41ed0fe2"
      },
      "execution_count": null,
      "outputs": [
        {
          "output_type": "execute_result",
          "data": {
            "text/plain": [
              "2"
            ]
          },
          "metadata": {},
          "execution_count": 35
        }
      ]
    },
    {
      "cell_type": "code",
      "source": [
        "x | y"
      ],
      "metadata": {
        "colab": {
          "base_uri": "https://localhost:8080/"
        },
        "id": "OTAMMrutK-JU",
        "outputId": "0bb19029-86ca-442a-e5e8-579117d0907f"
      },
      "execution_count": null,
      "outputs": [
        {
          "output_type": "execute_result",
          "data": {
            "text/plain": [
              "3"
            ]
          },
          "metadata": {},
          "execution_count": 36
        }
      ]
    },
    {
      "cell_type": "markdown",
      "source": [
        "2.Bitwise - Xor"
      ],
      "metadata": {
        "id": "rYYDQsMcLyV6"
      }
    },
    {
      "cell_type": "code",
      "source": [
        "x=2\n",
        "y=3\n",
        "x^y"
      ],
      "metadata": {
        "colab": {
          "base_uri": "https://localhost:8080/"
        },
        "id": "fylrfQ1FMzJw",
        "outputId": "2a1bf8bf-e569-4a33-9889-64982fbd7b37"
      },
      "execution_count": null,
      "outputs": [
        {
          "output_type": "execute_result",
          "data": {
            "text/plain": [
              "1"
            ]
          },
          "metadata": {},
          "execution_count": 2
        }
      ]
    },
    {
      "cell_type": "markdown",
      "source": [
        "3.Bitwise Not(Negotiation)"
      ],
      "metadata": {
        "id": "QX8ZJ1Zv1FQZ"
      }
    },
    {
      "cell_type": "code",
      "source": [
        "x=10\n",
        "~x"
      ],
      "metadata": {
        "colab": {
          "base_uri": "https://localhost:8080/"
        },
        "id": "Xc5seOqx1OlL",
        "outputId": "2feeb3de-8993-4cf9-8206-5f767f77e0c3"
      },
      "execution_count": null,
      "outputs": [
        {
          "output_type": "execute_result",
          "data": {
            "text/plain": [
              "-11"
            ]
          },
          "metadata": {},
          "execution_count": 3
        }
      ]
    },
    {
      "cell_type": "markdown",
      "source": [
        "4.Left Shift"
      ],
      "metadata": {
        "id": "uaP2GfTO1ThC"
      }
    },
    {
      "cell_type": "code",
      "source": [
        "x=3\n",
        "x<< 2"
      ],
      "metadata": {
        "colab": {
          "base_uri": "https://localhost:8080/"
        },
        "id": "40vE6YD11jo_",
        "outputId": "9cfc7702-e211-4f2c-b139-0f809e204479"
      },
      "execution_count": null,
      "outputs": [
        {
          "output_type": "execute_result",
          "data": {
            "text/plain": [
              "12"
            ]
          },
          "metadata": {},
          "execution_count": 6
        }
      ]
    },
    {
      "cell_type": "markdown",
      "source": [
        "5.Right Shift"
      ],
      "metadata": {
        "id": "8QuvWD7y1edj"
      }
    },
    {
      "cell_type": "code",
      "source": [
        "x=3\n",
        "x>>2"
      ],
      "metadata": {
        "colab": {
          "base_uri": "https://localhost:8080/"
        },
        "id": "UOd8EN_l2BEJ",
        "outputId": "7c5c7713-14c5-4132-80a7-4a0a01d40fd4"
      },
      "execution_count": null,
      "outputs": [
        {
          "output_type": "execute_result",
          "data": {
            "text/plain": [
              "0"
            ]
          },
          "metadata": {},
          "execution_count": 7
        }
      ]
    },
    {
      "cell_type": "markdown",
      "source": [
        "#Q5 - Explain the concept of type casting in Python with examples."
      ],
      "metadata": {
        "id": "-Xtpq0JCAk2o"
      }
    },
    {
      "cell_type": "code",
      "source": [
        "'''\n",
        "Answer 5\n",
        "\n",
        "Type casting in python:\n",
        "It is the process of changing the data type of a variable from one type to another. This is often necessary when working with different types of data in a program.\n",
        "There are two main types of type casting in Python:\n",
        "1.Implicit Type Casting: This is done automatically by the Python interpreter. For example, when you add an integer and a float, the interpreter will automatically convert the integer to a float before performing the addition.\n",
        "2.Explicit Type Casting: This is done manually by the programmer using built-in functions. This gives you more control over the type conversion process.\n",
        "'''"
      ],
      "metadata": {
        "id": "wErl3I4D265k"
      },
      "execution_count": null,
      "outputs": []
    },
    {
      "cell_type": "code",
      "source": [
        "#Implicit Type casting\n",
        "x=10\n",
        "y-3.4\n",
        "z=x+y\n",
        "print(z)\n",
        "type(z)"
      ],
      "metadata": {
        "colab": {
          "base_uri": "https://localhost:8080/"
        },
        "id": "D1l3ry5b3ku-",
        "outputId": "b4c1abb4-4533-4777-c1a1-249f082e2f41"
      },
      "execution_count": null,
      "outputs": [
        {
          "output_type": "stream",
          "name": "stdout",
          "text": [
            "13\n"
          ]
        },
        {
          "output_type": "execute_result",
          "data": {
            "text/plain": [
              "int"
            ]
          },
          "metadata": {},
          "execution_count": 8
        }
      ]
    },
    {
      "cell_type": "code",
      "source": [
        "#explicit type casting\n",
        "x=10\n",
        "y=\"3.4\"\n",
        "z=x+float(y)\n",
        "print(z)\n",
        "type(z)"
      ],
      "metadata": {
        "colab": {
          "base_uri": "https://localhost:8080/"
        },
        "id": "5EUgX3BD3r96",
        "outputId": "717260f9-cb37-4ee2-c114-1dd193a1c62f"
      },
      "execution_count": null,
      "outputs": [
        {
          "output_type": "stream",
          "name": "stdout",
          "text": [
            "13.4\n"
          ]
        },
        {
          "output_type": "execute_result",
          "data": {
            "text/plain": [
              "float"
            ]
          },
          "metadata": {},
          "execution_count": 9
        }
      ]
    },
    {
      "cell_type": "markdown",
      "source": [
        "# Q6 - How do conditional statements work in Python? Illustrate with examples."
      ],
      "metadata": {
        "id": "FFS87USsAosj"
      }
    },
    {
      "cell_type": "code",
      "source": [
        "'''\n",
        "Answer 6\n",
        "Conditional statements allow you to control the flow of execution in your program based on certain conditions. These statements evaluate a condition and execute a block of code only if the condition is true.\n",
        "Python provides the following types of conditional statements:\n",
        "\n",
        "1.if statement: Executes a block of code if a condition is true.\n",
        "2.if-else statement: Executes one block of code if a condition is true and another block if the condition is false.\n",
        "3.if-elif-else statement: Allows you to check multiple conditions and execute different blocks of code based on the first condition that evaluates to true.\n",
        "4.Nested if else :Allows you to have one if-else statement inside another.\n",
        "\n",
        "'''"
      ],
      "metadata": {
        "id": "XSt9PwHm34jj"
      },
      "execution_count": null,
      "outputs": []
    },
    {
      "cell_type": "markdown",
      "source": [
        "1.if statement:"
      ],
      "metadata": {
        "id": "aAjph2wt6DgZ"
      }
    },
    {
      "cell_type": "code",
      "source": [
        "age = 20\n",
        "if age> 18:\n",
        "    print(\"You are eligible to vote\")"
      ],
      "metadata": {
        "colab": {
          "base_uri": "https://localhost:8080/"
        },
        "id": "CePolqKc6J0I",
        "outputId": "cb816a84-1d6c-4ad1-ae41-6f65fa232c94"
      },
      "execution_count": null,
      "outputs": [
        {
          "output_type": "stream",
          "name": "stdout",
          "text": [
            "You are eligible to vote\n"
          ]
        }
      ]
    },
    {
      "cell_type": "markdown",
      "source": [
        "2.if-else statement:"
      ],
      "metadata": {
        "id": "ktNdd_q46VY7"
      }
    },
    {
      "cell_type": "code",
      "source": [
        "age = 9\n",
        "if age> 18:\n",
        "    print(\"You are eligible to vote\")\n",
        "else :\n",
        "    print(\"You are not eligible to vote\")"
      ],
      "metadata": {
        "colab": {
          "base_uri": "https://localhost:8080/"
        },
        "id": "DOrOskzz6Zl9",
        "outputId": "91a2f236-d564-4cf7-a0df-61b20218e08a"
      },
      "execution_count": null,
      "outputs": [
        {
          "output_type": "stream",
          "name": "stdout",
          "text": [
            "You are not eligible to vote\n"
          ]
        }
      ]
    },
    {
      "cell_type": "markdown",
      "source": [
        "3.if-elif-else statement:"
      ],
      "metadata": {
        "id": "mxt75XEY6ovm"
      }
    },
    {
      "cell_type": "code",
      "source": [
        "age = 18\n",
        "if age> 18:\n",
        "    print(\"You are eligible to vote\")\n",
        "elif age == 18:\n",
        "    print(\"You are just eligible to vote\")\n",
        "else :\n",
        "    print(\"You are not eligible to vote\")"
      ],
      "metadata": {
        "colab": {
          "base_uri": "https://localhost:8080/"
        },
        "id": "NbgUUmIz6r8a",
        "outputId": "3c97d4ba-24b7-4974-ae99-ba44c86e1c84"
      },
      "execution_count": null,
      "outputs": [
        {
          "output_type": "stream",
          "name": "stdout",
          "text": [
            "You are just eligible to vote\n"
          ]
        }
      ]
    },
    {
      "cell_type": "markdown",
      "source": [
        "4.Nested if-else"
      ],
      "metadata": {
        "id": "yITeqxCR62aj"
      }
    },
    {
      "cell_type": "code",
      "source": [
        "age = 20\n",
        "citizen = \"Indian\"  # Assign a value to citizen\n",
        "\n",
        "if age > 18 and citizen == \"Indian\":\n",
        "    print(\"You are eligible to vote\")\n",
        "    if citizen == \"Indian\":\n",
        "        print(\"You are a Indian citizen\")\n",
        "    else:\n",
        "        print(\"You are not a Indian citizen\")\n",
        "else:\n",
        "    print(\"Eligibility criteria does not met\")"
      ],
      "metadata": {
        "colab": {
          "base_uri": "https://localhost:8080/"
        },
        "id": "5sGNa06b69Pu",
        "outputId": "69bcb73f-7b64-4b59-e68e-173231321075"
      },
      "execution_count": null,
      "outputs": [
        {
          "output_type": "stream",
          "name": "stdout",
          "text": [
            "You are eligible to vote\n",
            "You are a Indian citizen\n"
          ]
        }
      ]
    },
    {
      "cell_type": "markdown",
      "source": [
        "# Q7 - Describe the different types of loops in Python and their use cases with examples."
      ],
      "metadata": {
        "id": "gVL27mzrAudN"
      }
    },
    {
      "cell_type": "code",
      "source": [
        "'''\n",
        "Answer 7\n",
        "Loops are used to execute a block of code repeatedly.\n",
        "1.For loop\n",
        "The for loop is used to iterate over a sequence (such as a list, tuple, string, or range) or other iterable objects. It executes a block of code for each item in the\n",
        "Use Cases:\n",
        "Iterating through a list of items\n",
        "Processing each character in a string\n",
        "Performing an action a specific number of times using the range() function\n",
        "\n",
        "2.While loop\n",
        "The while loop is used to repeatedly execute a block of code as long as a condition is true.\n",
        "Use Cases:\n",
        "Repeating a task until a specific condition is met\n",
        "Creating interactive menus or programs\n",
        "Implementing game loops.\n",
        "\n",
        "'''\n"
      ],
      "metadata": {
        "id": "7YTInHM98fAW"
      },
      "execution_count": null,
      "outputs": []
    },
    {
      "cell_type": "code",
      "source": [
        "#for loop\n",
        "fruits = [\"apple\", \"banana\", \"cherry\"]\n",
        "for fruit in fruits:\n",
        "    print(fruit)"
      ],
      "metadata": {
        "colab": {
          "base_uri": "https://localhost:8080/"
        },
        "id": "zm0J5NQc-B_8",
        "outputId": "6bda4925-cdd0-4ebd-8b4a-7efaab5fb7c4"
      },
      "execution_count": null,
      "outputs": [
        {
          "output_type": "stream",
          "name": "stdout",
          "text": [
            "apple\n",
            "banana\n",
            "cherry\n"
          ]
        }
      ]
    },
    {
      "cell_type": "code",
      "source": [
        "#While loop\n",
        "count = 0\n",
        "while count < 5:\n",
        "    print(count)\n",
        "    count += 1"
      ],
      "metadata": {
        "colab": {
          "base_uri": "https://localhost:8080/"
        },
        "id": "g--IxMcw-i1k",
        "outputId": "c4bfaebe-4438-475d-9e27-ddab7dbd3624"
      },
      "execution_count": null,
      "outputs": [
        {
          "output_type": "stream",
          "name": "stdout",
          "text": [
            "0\n",
            "1\n",
            "2\n",
            "3\n",
            "4\n"
          ]
        }
      ]
    },
    {
      "cell_type": "code",
      "source": [],
      "metadata": {
        "id": "Br6XxXlO-vGW"
      },
      "execution_count": null,
      "outputs": []
    }
  ]
}