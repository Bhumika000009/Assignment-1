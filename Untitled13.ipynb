{
  "nbformat": 4,
  "nbformat_minor": 0,
  "metadata": {
    "colab": {
      "provenance": [],
      "authorship_tag": "ABX9TyNgNaKV3+d2WH/uG4VNWOaF",
      "include_colab_link": true
    },
    "kernelspec": {
      "name": "python3",
      "display_name": "Python 3"
    },
    "language_info": {
      "name": "python"
    }
  },
  "cells": [
    {
      "cell_type": "markdown",
      "metadata": {
        "id": "view-in-github",
        "colab_type": "text"
      },
      "source": [
        "<a href=\"https://colab.research.google.com/github/Bhumika000009/Assignment-1/blob/main/Untitled13.ipynb\" target=\"_parent\"><img src=\"https://colab.research.google.com/assets/colab-badge.svg\" alt=\"Open In Colab\"/></a>"
      ]
    },
    {
      "cell_type": "code",
      "execution_count": null,
      "metadata": {
        "id": "geBGQiIOxrSo"
      },
      "outputs": [],
      "source": []
    },
    {
      "cell_type": "markdown",
      "source": [
        "Reverse a string:"
      ],
      "metadata": {
        "id": "8tBSVyOPyMsC"
      }
    },
    {
      "cell_type": "code",
      "source": [
        "def reverse_string(s):\n",
        "    return s[::-1]"
      ],
      "metadata": {
        "id": "L268fV4WyNWx"
      },
      "execution_count": 1,
      "outputs": []
    },
    {
      "cell_type": "markdown",
      "source": [
        "Count the number of vowels in a string:"
      ],
      "metadata": {
        "id": "MydgeGSqyS-S"
      }
    },
    {
      "cell_type": "code",
      "source": [
        "def count_vowels(s):\n",
        "    return sum(1 for char in s if char in \"aeiouAEIOU\")\n"
      ],
      "metadata": {
        "id": "GIGB0IP5yVKj"
      },
      "execution_count": null,
      "outputs": []
    },
    {
      "cell_type": "markdown",
      "source": [
        "Check if a string is a palindrome:"
      ],
      "metadata": {
        "id": "w3LKusSvyXKj"
      }
    },
    {
      "cell_type": "code",
      "source": [
        "def is_palindrome(s):\n",
        "    return s == s[::-1]\n"
      ],
      "metadata": {
        "id": "GWvUvfRFyZij"
      },
      "execution_count": null,
      "outputs": []
    },
    {
      "cell_type": "markdown",
      "source": [
        "Check if two strings are anagrams:"
      ],
      "metadata": {
        "id": "1wXZOP6Wyd8c"
      }
    },
    {
      "cell_type": "code",
      "source": [
        "def are_anagrams(s1, s2):\n",
        "    return sorted(s1) == sorted(s2)\n"
      ],
      "metadata": {
        "id": "c2qSz4N1yeqr"
      },
      "execution_count": null,
      "outputs": []
    },
    {
      "cell_type": "markdown",
      "source": [],
      "metadata": {
        "id": "XOmfu6-jyg0E"
      }
    },
    {
      "cell_type": "markdown",
      "source": [
        "Find all occurrences of a substring:"
      ],
      "metadata": {
        "id": "k3okjFl6ykqa"
      }
    },
    {
      "cell_type": "code",
      "source": [
        "def find_substring_occurrences(s, sub):\n",
        "    return [i for i in range(len(s)) if s.startswith(sub, i)]\n"
      ],
      "metadata": {
        "id": "ZuWgc17Wylv4"
      },
      "execution_count": null,
      "outputs": []
    },
    {
      "cell_type": "markdown",
      "source": [
        "String compression using counts of repeated characters:"
      ],
      "metadata": {
        "id": "KmOM9HBEyqKt"
      }
    },
    {
      "cell_type": "code",
      "source": [
        "def string_compression(s):\n",
        "    result, count = [], 1\n",
        "    for i in range(1, len(s)):\n",
        "        if s[i] == s[i-1]:\n",
        "            count += 1\n",
        "        else:\n",
        "            result.append(f\"{s[i-1]}{count}\")\n",
        "            count = 1\n",
        "    result.append(f\"{s[-1]}{count}\")\n",
        "    return ''.join(result)\n"
      ],
      "metadata": {
        "id": "1OzlgsTmysBm"
      },
      "execution_count": null,
      "outputs": []
    },
    {
      "cell_type": "markdown",
      "source": [
        "Check if a string has all unique characters:"
      ],
      "metadata": {
        "id": "Ly89KUehytTh"
      }
    },
    {
      "cell_type": "code",
      "source": [
        "def has_unique_characters(s):\n",
        "    return len(s) == len(set(s))\n"
      ],
      "metadata": {
        "id": "OxletTZyyvnu"
      },
      "execution_count": null,
      "outputs": []
    },
    {
      "cell_type": "markdown",
      "source": [
        "Convert string to uppercase or lowercase:"
      ],
      "metadata": {
        "id": "g7RMmSmMyw-3"
      }
    },
    {
      "cell_type": "code",
      "source": [
        "def convert_case(s, to_upper=True):\n",
        "    return s.upper() if to_upper else s.lower()\n"
      ],
      "metadata": {
        "id": "Mp400ZpLyyvn"
      },
      "execution_count": null,
      "outputs": []
    },
    {
      "cell_type": "markdown",
      "source": [
        "Count the number of words in a string:"
      ],
      "metadata": {
        "id": "EBIRCGJry0Gj"
      }
    },
    {
      "cell_type": "code",
      "source": [
        "def count_words(s):\n",
        "    return len(s.split())\n"
      ],
      "metadata": {
        "id": "oE2Lstyiy1-R"
      },
      "execution_count": null,
      "outputs": []
    },
    {
      "cell_type": "markdown",
      "source": [
        "Concatenate two strings without + operator:"
      ],
      "metadata": {
        "id": "jCHRWFhwy3oD"
      }
    },
    {
      "cell_type": "code",
      "source": [
        "def concatenate_strings(s1, s2):\n",
        "    return ''.join([s1, s2])\n"
      ],
      "metadata": {
        "id": "34h0RBITy-jE"
      },
      "execution_count": null,
      "outputs": []
    },
    {
      "cell_type": "markdown",
      "source": [
        "Remove all occurrences of a specific element from a list:"
      ],
      "metadata": {
        "id": "K9dcYFExzAQJ"
      }
    },
    {
      "cell_type": "code",
      "source": [
        "def remove_element(lst, element):\n",
        "    return [x for x in lst if x != element]\n"
      ],
      "metadata": {
        "id": "SVT2XcAgzCPf"
      },
      "execution_count": null,
      "outputs": []
    },
    {
      "cell_type": "markdown",
      "source": [
        "Find the second largest number in a list:"
      ],
      "metadata": {
        "id": "1MZb8rLEzDoT"
      }
    },
    {
      "cell_type": "code",
      "source": [
        "def second_largest(lst):\n",
        "    return sorted(set(lst))[-2] if len(set(lst)) > 1 else None\n"
      ],
      "metadata": {
        "id": "8aGwbqh_zFtk"
      },
      "execution_count": null,
      "outputs": []
    },
    {
      "cell_type": "markdown",
      "source": [
        "Count occurrences of each element in a list:"
      ],
      "metadata": {
        "id": "PAys6ZBfzL6O"
      }
    },
    {
      "cell_type": "code",
      "source": [
        "def count_occurrences(lst):\n",
        "    return {item: lst.count(item) for item in set(lst)}\n"
      ],
      "metadata": {
        "id": "cG3Vz3bEzIMw"
      },
      "execution_count": null,
      "outputs": []
    },
    {
      "cell_type": "markdown",
      "source": [
        "Reverse a list in-place:"
      ],
      "metadata": {
        "id": "15JBy-UNzOB8"
      }
    },
    {
      "cell_type": "code",
      "source": [
        "def reverse_list(lst):\n",
        "    lst[:] = lst[::-1]\n"
      ],
      "metadata": {
        "id": "yjxkm6S3zPlG"
      },
      "execution_count": null,
      "outputs": []
    },
    {
      "cell_type": "markdown",
      "source": [
        "Remove duplicates while preserving original order:"
      ],
      "metadata": {
        "id": "a-ySrEXPzQfF"
      }
    },
    {
      "cell_type": "code",
      "source": [
        "def remove_duplicates(lst):\n",
        "    return list(dict.fromkeys(lst))\n"
      ],
      "metadata": {
        "id": "XSsmJjjPzR26"
      },
      "execution_count": null,
      "outputs": []
    },
    {
      "cell_type": "markdown",
      "source": [
        "Check if a given list is sorted (either in ascending or descending order):"
      ],
      "metadata": {
        "id": "IKxlREJRzTk8"
      }
    },
    {
      "cell_type": "code",
      "source": [
        "def is_sorted(lst):\n",
        "    return lst == sorted(lst) or lst == sorted(lst, reverse=True)\n"
      ],
      "metadata": {
        "id": "34eDw7mMzePN"
      },
      "execution_count": null,
      "outputs": []
    },
    {
      "cell_type": "markdown",
      "source": [
        "Merge two sorted lists into a single sorted list:"
      ],
      "metadata": {
        "id": "aQHwhP5rzh8S"
      }
    },
    {
      "cell_type": "code",
      "source": [
        "def merge_sorted_lists(lst1, lst2):\n",
        "    return sorted(lst1 + lst2)\n"
      ],
      "metadata": {
        "id": "n1pTvAzNzjYG"
      },
      "execution_count": null,
      "outputs": []
    },
    {
      "cell_type": "markdown",
      "source": [
        "Find the intersection of two given lists:"
      ],
      "metadata": {
        "id": "8lVBq-edzkiS"
      }
    },
    {
      "cell_type": "code",
      "source": [
        "def intersection(lst1, lst2):\n",
        "    return list(set(lst1) & set(lst2))\n"
      ],
      "metadata": {
        "id": "oz1ZyjnCzl7-"
      },
      "execution_count": null,
      "outputs": []
    },
    {
      "cell_type": "markdown",
      "source": [
        "Find the union of two lists without duplicates:"
      ],
      "metadata": {
        "id": "4oxvLRI6zm-4"
      }
    },
    {
      "cell_type": "code",
      "source": [
        "def union(lst1, lst2):\n",
        "    return list(set(lst1) | set(lst2))\n"
      ],
      "metadata": {
        "id": "YhtXVd-Qzo-d"
      },
      "execution_count": null,
      "outputs": []
    },
    {
      "cell_type": "markdown",
      "source": [
        "Shuffle a given list randomly without using any built-in shuffle functions:"
      ],
      "metadata": {
        "id": "4__68DbQzqxA"
      }
    },
    {
      "cell_type": "code",
      "source": [
        "import random\n",
        "def shuffle_list(lst):\n",
        "    for i in range(len(lst)-1, 0, -1):\n",
        "        j = random.randint(0, i)\n",
        "        lst[i], lst[j] = lst[j], lst[i]\n",
        "    return lst\n"
      ],
      "metadata": {
        "id": "TmyRSORDztML"
      },
      "execution_count": null,
      "outputs": []
    },
    {
      "cell_type": "markdown",
      "source": [
        "Return a new tuple containing elements that are common to both input tuples:"
      ],
      "metadata": {
        "id": "CWdkc3uPzuOw"
      }
    },
    {
      "cell_type": "code",
      "source": [
        "def common_elements(tuple1, tuple2):\n",
        "    return tuple(set(tuple1) & set(tuple2))\n"
      ],
      "metadata": {
        "id": "4EdErjM0zwaj"
      },
      "execution_count": null,
      "outputs": []
    },
    {
      "cell_type": "markdown",
      "source": [
        "Intersection of two sets from user input:"
      ],
      "metadata": {
        "id": "wh4Sq4tmz0Mg"
      }
    },
    {
      "cell_type": "code",
      "source": [
        "def set_intersection():\n",
        "    set1 = set(map(int, input(\"Enter first set of integers (comma separated): \").split(',')))\n",
        "    set2 = set(map(int, input(\"Enter second set of integers (comma separated): \").split(',')))\n",
        "    return set1 & set2\n"
      ],
      "metadata": {
        "id": "KZwS1cAKz2eR"
      },
      "execution_count": null,
      "outputs": []
    },
    {
      "cell_type": "markdown",
      "source": [
        "Concatenate two tuples:"
      ],
      "metadata": {
        "id": "f1Bparb3z4o0"
      }
    },
    {
      "cell_type": "code",
      "source": [
        "def concatenate_tuples(tuple1, tuple2):\n",
        "    return tuple1 + tuple2\n"
      ],
      "metadata": {
        "id": "BH8jNUGAz6Pn"
      },
      "execution_count": null,
      "outputs": []
    },
    {
      "cell_type": "markdown",
      "source": [
        "Prompt the user to input two sets of strings and print the elements present in the first set but not in the second:"
      ],
      "metadata": {
        "id": "ccvubaAGz7oT"
      }
    },
    {
      "cell_type": "code",
      "source": [
        "def set_difference():\n",
        "    set1 = set(input(\"Enter the first set of strings (comma separated): \").split(','))\n",
        "    set2 = set(input(\"Enter the second set of strings (comma separated): \").split(','))\n",
        "    return set1 - set2\n"
      ],
      "metadata": {
        "id": "VWvAKwUZ0Qkp"
      },
      "execution_count": null,
      "outputs": []
    },
    {
      "cell_type": "markdown",
      "source": [
        "Take a tuple and two integers as input, returning a new tuple containing elements from the original tuple within the specified range of indices:"
      ],
      "metadata": {
        "id": "OxGGW6Up0T8T"
      }
    },
    {
      "cell_type": "code",
      "source": [
        "def tuple_range_elements(tpl, start, end):\n",
        "    return tpl[start:end]\n"
      ],
      "metadata": {
        "id": "adb5vSai0WPb"
      },
      "execution_count": null,
      "outputs": []
    },
    {
      "cell_type": "markdown",
      "source": [
        "Prompt the user to input two sets of characters and print the union of these two sets:"
      ],
      "metadata": {
        "id": "QesxXJ8R0XQK"
      }
    },
    {
      "cell_type": "code",
      "source": [
        "def set_union():\n",
        "    set1 = set(input(\"Enter the first set of characters (comma separated): \").split(','))\n",
        "    set2 = set(input(\"Enter the second set of characters (comma separated): \").split(','))\n",
        "    return set1 | set2\n"
      ],
      "metadata": {
        "id": "E4v7xS_o0Y0O"
      },
      "execution_count": null,
      "outputs": []
    },
    {
      "cell_type": "markdown",
      "source": [
        "Take a tuple of integers and return the maximum and minimum values using tuple unpacking:"
      ],
      "metadata": {
        "id": "K4xNTOy80ZyT"
      }
    },
    {
      "cell_type": "code",
      "source": [
        "def max_min_tuple(tpl):\n",
        "    max_val, min_val = max(tpl), min(tpl)\n",
        "    return max_val, min_val\n"
      ],
      "metadata": {
        "id": "NQGzhCDW0b8A"
      },
      "execution_count": null,
      "outputs": []
    },
    {
      "cell_type": "markdown",
      "source": [
        "Define two sets of integers and print their union, intersection, and difference:"
      ],
      "metadata": {
        "id": "PDOSTiTS0dRP"
      }
    },
    {
      "cell_type": "code",
      "source": [
        "def set_operations():\n",
        "    set1 = {1, 2, 3, 4, 5}\n",
        "    set2 = {4, 5, 6, 7, 8}\n",
        "    union = set1 | set2\n",
        "    intersection = set1 & set2\n",
        "    difference = set1 - set2\n",
        "    return union, intersection, difference\n"
      ],
      "metadata": {
        "id": "wdSsrRPz0e_q"
      },
      "execution_count": null,
      "outputs": []
    },
    {
      "cell_type": "markdown",
      "source": [
        "Take a tuple and an element as input, returning the count of occurrences of the given element in the tuple:"
      ],
      "metadata": {
        "id": "uNtGcp0k0h5-"
      }
    },
    {
      "cell_type": "code",
      "source": [
        "def count_element_in_tuple(tpl, element):\n",
        "    return tpl.count(element)\n"
      ],
      "metadata": {
        "id": "D4mCW_iw0kOe"
      },
      "execution_count": null,
      "outputs": []
    },
    {
      "cell_type": "markdown",
      "source": [
        "Prompt the user to input two sets of strings and print the symmetric difference of these two sets:\n"
      ],
      "metadata": {
        "id": "hmw6nR_M0k-R"
      }
    },
    {
      "cell_type": "code",
      "source": [
        "def symmetric_difference():\n",
        "    set1 = set(input(\"Enter the first set of strings (comma separated): \").split(','))\n",
        "    set2 = set(input(\"Enter the second set of strings (comma separated): \").split(','))\n",
        "    return set1 ^ set2\n"
      ],
      "metadata": {
        "id": "f_FR7XJz0pyh"
      },
      "execution_count": null,
      "outputs": []
    },
    {
      "cell_type": "markdown",
      "source": [
        "Take a list of words as input and return a dictionary where the keys are unique words and the values are their frequencies:"
      ],
      "metadata": {
        "id": "qQNJVVuN0qry"
      }
    },
    {
      "cell_type": "code",
      "source": [
        "def word_frequencies():\n",
        "    words = input(\"Enter a list of words (comma separated): \").split(',')\n",
        "    return {word: words.count(word) for word in set(words)}\n"
      ],
      "metadata": {
        "id": "n5NdsGIf0tJ4"
      },
      "execution_count": null,
      "outputs": []
    },
    {
      "cell_type": "markdown",
      "source": [
        "Take two dictionaries as input and merge them, adding values for common keys:"
      ],
      "metadata": {
        "id": "xIYSWckY0t9c"
      }
    },
    {
      "cell_type": "code",
      "source": [
        "def merge_dicts(dict1, dict2):\n",
        "    merged = dict1.copy()\n",
        "    for key, value in dict2.items():\n",
        "        if key in merged:\n",
        "            merged[key] += value\n",
        "        else:\n",
        "            merged[key] = value\n",
        "    return merged\n"
      ],
      "metadata": {
        "id": "sDMlxoa50wMF"
      },
      "execution_count": null,
      "outputs": []
    },
    {
      "cell_type": "markdown",
      "source": [
        "Access a value in a nested dictionary given a list of keys, returning the corresponding value or None if any key doesn't exist:"
      ],
      "metadata": {
        "id": "uXifbO0p0xY6"
      }
    },
    {
      "cell_type": "code",
      "source": [
        "def access_nested_dict(nested_dict, keys):\n",
        "    for key in keys:\n",
        "        nested_dict = nested_dict.get(key)\n",
        "        if nested_dict is None:\n",
        "            return None\n",
        "    return nested_dict\n"
      ],
      "metadata": {
        "id": "S9AJ6A9q0zC2"
      },
      "execution_count": null,
      "outputs": []
    },
    {
      "cell_type": "markdown",
      "source": [
        "Sort a dictionary based on its values, either in ascending or descending order:"
      ],
      "metadata": {
        "id": "Uzg7e5Sr00Kx"
      }
    },
    {
      "cell_type": "code",
      "source": [
        "def sort_dict_by_value(d, reverse=False):\n",
        "    return dict(sorted(d.items(), key=lambda item: item[1], reverse=reverse))\n"
      ],
      "metadata": {
        "id": "tyjMKUqu013J"
      },
      "execution_count": null,
      "outputs": []
    },
    {
      "cell_type": "markdown",
      "source": [
        "Invert a dictionary, swapping keys and values, handling cases where multiple keys have the same value by storing keys in a list:"
      ],
      "metadata": {
        "id": "N6gVMwI003lc"
      }
    },
    {
      "cell_type": "code",
      "source": [
        "def invert_dict(d):\n",
        "    inverted = {}\n",
        "    for key, value in d.items():\n",
        "        inverted.setdefault(value, []).append(key)\n",
        "    return inverted\n"
      ],
      "metadata": {
        "id": "kH1l_4cT04uJ"
      },
      "execution_count": null,
      "outputs": []
    }
  ]
}