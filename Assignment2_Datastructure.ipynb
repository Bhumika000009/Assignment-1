{
  "nbformat": 4,
  "nbformat_minor": 0,
  "metadata": {
    "colab": {
      "provenance": []
    },
    "kernelspec": {
      "name": "python3",
      "display_name": "Python 3"
    },
    "language_info": {
      "name": "python"
    }
  },
  "cells": [
    {
      "cell_type": "markdown",
      "source": [
        "# Ques 1 - Discuss string slicing and provide examples."
      ],
      "metadata": {
        "id": "PjG6tTwdw_Ji"
      }
    },
    {
      "cell_type": "code",
      "execution_count": null,
      "metadata": {
        "id": "xSVU46kHwxWu"
      },
      "outputs": [],
      "source": [
        "\n",
        "#Answer1-\n",
        "#String slicing is the process of extracting a portion of a string using its index positions. In Python, strings are indexed starting from 0 for the first character, 1 for the second character, and so on. Negative indexing is also supported, where -1 represents the last character, -2 represents the second-to-last character, and so on.\n"
      ]
    },
    {
      "cell_type": "code",
      "source": [
        "a=\"pwskills\"\n",
        "a[0:5]"
      ],
      "metadata": {
        "colab": {
          "base_uri": "https://localhost:8080/",
          "height": 36
        },
        "id": "iBdWz_BSxH3u",
        "outputId": "32e1c5a5-614e-4dce-dd95-e9ac8957d5bc"
      },
      "execution_count": 1,
      "outputs": [
        {
          "output_type": "execute_result",
          "data": {
            "text/plain": [
              "'pwski'"
            ],
            "application/vnd.google.colaboratory.intrinsic+json": {
              "type": "string"
            }
          },
          "metadata": {},
          "execution_count": 1
        }
      ]
    },
    {
      "cell_type": "code",
      "source": [
        "b=[1,2,3,4,5,6,7,8,9]\n",
        "b[1:10:2]"
      ],
      "metadata": {
        "colab": {
          "base_uri": "https://localhost:8080/",
          "height": 0
        },
        "id": "XJR715QaxROS",
        "outputId": "f3682678-98be-4f06-a52e-7f137ebc0cb9"
      },
      "execution_count": 2,
      "outputs": [
        {
          "output_type": "execute_result",
          "data": {
            "text/plain": [
              "[2, 4, 6, 8]"
            ]
          },
          "metadata": {},
          "execution_count": 2
        }
      ]
    },
    {
      "cell_type": "markdown",
      "source": [
        "# Ques 2 - Explain the key features of lists in Python."
      ],
      "metadata": {
        "id": "xcuqgYsfx7hD"
      }
    },
    {
      "cell_type": "code",
      "source": [
        "'''\n",
        "Answer2\n",
        "1.Ordered and Mutable: Lists maintain the order of elements and allow modifications after creation. You can add, remove, or change elements within a list.\n",
        "2.Heterogeneous Elements: Lists can store elements of different data types, including numbers, strings, booleans, and even other lists.\n",
        "3.Indexed Access: Elements in a list are accessible using their index positions, starting from 0 for the first element. Negative indexing is also supported.\n",
        "4.Iterable: You can iterate through the elements of a list using loops like for loops.\n",
        "5.Nesting: Lists can be nested, meaning a list can contain other lists as its elements, creating hierarchical structures.\n",
        "'''"
      ],
      "metadata": {
        "id": "EQZcpEeCylfJ"
      },
      "execution_count": null,
      "outputs": []
    },
    {
      "cell_type": "markdown",
      "source": [
        "# Ques 3 - Describe how to access, modify, and delete elements in a list with examples."
      ],
      "metadata": {
        "id": "Nz5pPEDfzW_y"
      }
    },
    {
      "cell_type": "code",
      "source": [
        "#Answer3\n",
        "#example1-\n",
        "\n",
        "grocery_list=['apple','mango','guava','potato','oil']\n",
        "grocery_list[1] #accessing element\n"
      ],
      "metadata": {
        "colab": {
          "base_uri": "https://localhost:8080/",
          "height": 36
        },
        "id": "wc0lOr0WzuID",
        "outputId": "935e03a1-5056-48a9-ed7b-60f361f43962"
      },
      "execution_count": 6,
      "outputs": [
        {
          "output_type": "execute_result",
          "data": {
            "text/plain": [
              "'mango'"
            ],
            "application/vnd.google.colaboratory.intrinsic+json": {
              "type": "string"
            }
          },
          "metadata": {},
          "execution_count": 6
        }
      ]
    },
    {
      "cell_type": "code",
      "source": [
        "grocery_list[0]='cucumber' #modifying element"
      ],
      "metadata": {
        "id": "D9curvgi0EwE"
      },
      "execution_count": 7,
      "outputs": []
    },
    {
      "cell_type": "code",
      "source": [
        "print(grocery_list)"
      ],
      "metadata": {
        "colab": {
          "base_uri": "https://localhost:8080/",
          "height": 0
        },
        "id": "DxdkAIio0XyC",
        "outputId": "5b8ae482-d52a-4661-b0cf-e41a8fb6682a"
      },
      "execution_count": 8,
      "outputs": [
        {
          "output_type": "stream",
          "name": "stdout",
          "text": [
            "['cucumber', 'mango', 'guava', 'potato', 'oil']\n"
          ]
        }
      ]
    },
    {
      "cell_type": "code",
      "source": [
        "del grocery_list[1] #delete elements"
      ],
      "metadata": {
        "id": "Qh5wbwKT0eCZ"
      },
      "execution_count": 12,
      "outputs": []
    },
    {
      "cell_type": "code",
      "source": [
        "print(grocery_list)"
      ],
      "metadata": {
        "colab": {
          "base_uri": "https://localhost:8080/",
          "height": 0
        },
        "id": "19qZIdRs0ktO",
        "outputId": "0551625e-5155-44ee-eab1-910338378000"
      },
      "execution_count": 13,
      "outputs": [
        {
          "output_type": "stream",
          "name": "stdout",
          "text": [
            "['cucumber', 'guava', 'oil']\n"
          ]
        }
      ]
    },
    {
      "cell_type": "code",
      "source": [
        "#example2-\n",
        "\n",
        "student_list=['ram','shyam','geeta']\n",
        "student_list[-1] #accessing element"
      ],
      "metadata": {
        "colab": {
          "base_uri": "https://localhost:8080/",
          "height": 36
        },
        "id": "5Frpga150mPk",
        "outputId": "fa5787e7-5cc7-4617-9073-96c27306c3fb"
      },
      "execution_count": 14,
      "outputs": [
        {
          "output_type": "execute_result",
          "data": {
            "text/plain": [
              "'geeta'"
            ],
            "application/vnd.google.colaboratory.intrinsic+json": {
              "type": "string"
            }
          },
          "metadata": {},
          "execution_count": 14
        }
      ]
    },
    {
      "cell_type": "code",
      "source": [
        "student_list[-2]='sita' #modifying element"
      ],
      "metadata": {
        "id": "M0c_t9171YU9"
      },
      "execution_count": 17,
      "outputs": []
    },
    {
      "cell_type": "code",
      "source": [
        "print(student_list)"
      ],
      "metadata": {
        "colab": {
          "base_uri": "https://localhost:8080/",
          "height": 0
        },
        "id": "04C0y5l61jb9",
        "outputId": "b55dedf0-a956-4822-9a23-25fa0a3f7f17"
      },
      "execution_count": 18,
      "outputs": [
        {
          "output_type": "stream",
          "name": "stdout",
          "text": [
            "['ram', 'sita', 'geeta']\n"
          ]
        }
      ]
    },
    {
      "cell_type": "code",
      "source": [
        "del student_list[0] #delete elements"
      ],
      "metadata": {
        "id": "p1c_e0vq1rcp"
      },
      "execution_count": 21,
      "outputs": []
    },
    {
      "cell_type": "code",
      "source": [
        "print(student_list)"
      ],
      "metadata": {
        "colab": {
          "base_uri": "https://localhost:8080/",
          "height": 0
        },
        "id": "5Pnr2Oyf1zJQ",
        "outputId": "ac19228f-a32b-45a3-a057-dccf570505f9"
      },
      "execution_count": 22,
      "outputs": [
        {
          "output_type": "stream",
          "name": "stdout",
          "text": [
            "['sita', 'geeta']\n"
          ]
        }
      ]
    },
    {
      "cell_type": "markdown",
      "source": [
        "# Ques 4 - Compare and contrast tuples and lists with examples."
      ],
      "metadata": {
        "id": "-Boahkmu17lJ"
      }
    },
    {
      "cell_type": "code",
      "source": [
        "'''\n",
        "Answer4\n",
        "\n",
        "List:An ordered, mutable collection of items (elements) that can be of different data types. Lists are defined using square brackets [] and allow for adding, removing, and changing elements.\n",
        "Features:\n",
        "Mutable: Elements can be modified after creation (add, remove, change).\n",
        "Defined using square brackets []: my_list = [1, 2, 3]\n",
        "Typically used for collections that may change.\n",
        "\n",
        "Tupels:An ordered, immutable collection of items (elements) that can be of different data types. Tuples are defined using parentheses () and their elements cannot be modified after creation.\n",
        "Features:\n",
        "Immutable: Elements cannot be modified after creation.\n",
        "Defined using parentheses (): my_tuple = (1, 2, 3)\n",
        "Typically used for collections that should remain constant."
      ],
      "metadata": {
        "id": "1dYWmPL62EXJ"
      },
      "execution_count": null,
      "outputs": []
    },
    {
      "cell_type": "code",
      "source": [
        "#Example of list:\n",
        "grocery_list=['apple','mango','guava','potato','oil']\n",
        "grocery_list[1]='kiwi' #mutable\n",
        "print(grocery_list)"
      ],
      "metadata": {
        "colab": {
          "base_uri": "https://localhost:8080/",
          "height": 0
        },
        "id": "57cPB4q126hg",
        "outputId": "12e304e5-a282-49bd-93da-b725ce301701"
      },
      "execution_count": 25,
      "outputs": [
        {
          "output_type": "stream",
          "name": "stdout",
          "text": [
            "['apple', 'kiwi', 'guava', 'potato', 'oil']\n"
          ]
        }
      ]
    },
    {
      "cell_type": "code",
      "source": [
        "#Example of tuples:\n",
        "tuple1=('apple','mango','guava','potato','oil')\n",
        "tuple1[1]='kiwi' #immutable\n",
        "print(tuple1)"
      ],
      "metadata": {
        "colab": {
          "base_uri": "https://localhost:8080/",
          "height": 200
        },
        "id": "yfLUoqRL3E_B",
        "outputId": "aa1a18ed-8ce2-4d01-fb97-5759ab766359"
      },
      "execution_count": 26,
      "outputs": [
        {
          "output_type": "error",
          "ename": "TypeError",
          "evalue": "'tuple' object does not support item assignment",
          "traceback": [
            "\u001b[0;31m---------------------------------------------------------------------------\u001b[0m",
            "\u001b[0;31mTypeError\u001b[0m                                 Traceback (most recent call last)",
            "\u001b[0;32m<ipython-input-26-e460b2ed2664>\u001b[0m in \u001b[0;36m<cell line: 3>\u001b[0;34m()\u001b[0m\n\u001b[1;32m      1\u001b[0m \u001b[0;31m#Example of tuples:\u001b[0m\u001b[0;34m\u001b[0m\u001b[0;34m\u001b[0m\u001b[0m\n\u001b[1;32m      2\u001b[0m \u001b[0mtuple1\u001b[0m\u001b[0;34m=\u001b[0m\u001b[0;34m(\u001b[0m\u001b[0;34m'apple'\u001b[0m\u001b[0;34m,\u001b[0m\u001b[0;34m'mango'\u001b[0m\u001b[0;34m,\u001b[0m\u001b[0;34m'guava'\u001b[0m\u001b[0;34m,\u001b[0m\u001b[0;34m'potato'\u001b[0m\u001b[0;34m,\u001b[0m\u001b[0;34m'oil'\u001b[0m\u001b[0;34m)\u001b[0m\u001b[0;34m\u001b[0m\u001b[0;34m\u001b[0m\u001b[0m\n\u001b[0;32m----> 3\u001b[0;31m \u001b[0mtuple1\u001b[0m\u001b[0;34m[\u001b[0m\u001b[0;36m1\u001b[0m\u001b[0;34m]\u001b[0m\u001b[0;34m=\u001b[0m\u001b[0;34m'kiwi'\u001b[0m\u001b[0;34m\u001b[0m\u001b[0;34m\u001b[0m\u001b[0m\n\u001b[0m\u001b[1;32m      4\u001b[0m \u001b[0mprint\u001b[0m\u001b[0;34m(\u001b[0m\u001b[0mtuple1\u001b[0m\u001b[0;34m)\u001b[0m\u001b[0;34m\u001b[0m\u001b[0;34m\u001b[0m\u001b[0m\n",
            "\u001b[0;31mTypeError\u001b[0m: 'tuple' object does not support item assignment"
          ]
        }
      ]
    },
    {
      "cell_type": "markdown",
      "source": [
        "# Ques 5 - Describe the key features of sets and provide examples of their use.\n"
      ],
      "metadata": {
        "id": "gCSrvCF_4YZv"
      }
    },
    {
      "cell_type": "code",
      "source": [
        "'''\n",
        "Answer5\n",
        "\n",
        "Key Features of Sets\n",
        "\n",
        "1.Unordered: Sets are unordered collections, meaning the elements have no specific order. The order you insert elements might not be the same when you access them.\n",
        "2.Mutable: Sets are mutable, allowing you to add or remove elements after creation. However, the elements themselves within the set must be immutable (like numbers, strings, or tuples).\n",
        "3.Unique Elements: Sets only contain unique elements. If you try to add a duplicate element, it won't be added to the set.\n",
        "4.No Indexing: Since sets are unordered, you cannot access elements using indexing like lists or tuples.\n",
        "5.Set Operations: Sets support mathematical set operations like union, intersection, difference, and more.\n",
        "'''"
      ],
      "metadata": {
        "id": "DL8Bb6gN4hVY"
      },
      "execution_count": null,
      "outputs": []
    },
    {
      "cell_type": "code",
      "source": [
        "List1=[1,2,3,2,2,23,3,4,5]\n",
        "print(List1)"
      ],
      "metadata": {
        "colab": {
          "base_uri": "https://localhost:8080/",
          "height": 0
        },
        "id": "o-6TIOkH49R9",
        "outputId": "f39b0494-6ede-4879-a2d7-86f7fce3da9f"
      },
      "execution_count": 30,
      "outputs": [
        {
          "output_type": "stream",
          "name": "stdout",
          "text": [
            "[1, 2, 3, 2, 2, 23, 3, 4, 5]\n"
          ]
        }
      ]
    },
    {
      "cell_type": "code",
      "source": [
        "set1=set(List1) # set removes duplicates and provide unique value only\n",
        "print (set1)"
      ],
      "metadata": {
        "colab": {
          "base_uri": "https://localhost:8080/",
          "height": 0
        },
        "id": "k_TOJzFx5t9s",
        "outputId": "329c8188-8186-49a4-e81b-15f97f991696"
      },
      "execution_count": 33,
      "outputs": [
        {
          "output_type": "stream",
          "name": "stdout",
          "text": [
            "{1, 2, 3, 4, 5, 23}\n"
          ]
        }
      ]
    },
    {
      "cell_type": "code",
      "source": [
        "3 in set1 #checking element in set"
      ],
      "metadata": {
        "colab": {
          "base_uri": "https://localhost:8080/",
          "height": 0
        },
        "id": "EUuOHtsL6Hez",
        "outputId": "1493832b-a600-4558-bb56-b74ca52b1e1e"
      },
      "execution_count": 34,
      "outputs": [
        {
          "output_type": "execute_result",
          "data": {
            "text/plain": [
              "True"
            ]
          },
          "metadata": {},
          "execution_count": 34
        }
      ]
    },
    {
      "cell_type": "code",
      "source": [
        "set2={'apple','mango','grapes','banana'} #set operations\n",
        "set3={'banana','kiwi','orange'}\n",
        "print(set2|set3) #union\n",
        "print(set2&set3) #intersection\n",
        "print(set2-set3) #differnce\n",
        "print(set2^set3) #symmetric difference"
      ],
      "metadata": {
        "colab": {
          "base_uri": "https://localhost:8080/",
          "height": 0
        },
        "id": "fYngI18p6QjD",
        "outputId": "50637166-c2a4-4006-ca5d-0600a0604a71"
      },
      "execution_count": 35,
      "outputs": [
        {
          "output_type": "stream",
          "name": "stdout",
          "text": [
            "{'grapes', 'banana', 'orange', 'kiwi', 'apple', 'mango'}\n",
            "{'banana'}\n",
            "{'grapes', 'mango', 'apple'}\n",
            "{'grapes', 'mango', 'orange', 'kiwi', 'apple'}\n"
          ]
        }
      ]
    },
    {
      "cell_type": "markdown",
      "source": [],
      "metadata": {
        "id": "7uoEQcA73ZAu"
      }
    },
    {
      "cell_type": "markdown",
      "source": [
        "# Ques 6 - Discuss the use cases of tuples and sets in Python programming.\n"
      ],
      "metadata": {
        "id": "RwNoMvJ_61qL"
      }
    },
    {
      "cell_type": "code",
      "source": [
        "'''\n",
        "Answer6\n",
        "Tuples\n",
        "\n",
        "Use Cases:\n",
        "\n",
        "Representing a fixed collection of items that should not be changed.\n",
        "Returning multiple values from a function.\n",
        "Creating records or data structures where immutability is desired (e.g., representing a point in 2D space as (x, y)).\n",
        "Used as keys in dictionaries since they are immutable.\n",
        "\n",
        "Sets\n",
        "\n",
        "Use Cases:\n",
        "\n",
        "Removing duplicates from a list or other collection.\n",
        "Performing mathematical set operations like union, intersection, and difference.\n",
        "Membership testing (checking if an element is present in a set).\n",
        "Representing collections where order is not important and uniqueness is desired.\n",
        "\n",
        "'''"
      ],
      "metadata": {
        "id": "2qJsEWvc7Fqh"
      },
      "execution_count": null,
      "outputs": []
    },
    {
      "cell_type": "code",
      "source": [
        "#examples of tuples\n",
        "\n",
        "Emp_id=(101,102,103,104) #immutable\n",
        "print(Emp_id)"
      ],
      "metadata": {
        "colab": {
          "base_uri": "https://localhost:8080/",
          "height": 0
        },
        "id": "oKT-iDUm8_qb",
        "outputId": "6f1269f1-5bb3-42a1-c990-dc329d6eb1b4"
      },
      "execution_count": 36,
      "outputs": [
        {
          "output_type": "stream",
          "name": "stdout",
          "text": [
            "(101, 102, 103, 104)\n"
          ]
        }
      ]
    },
    {
      "cell_type": "code",
      "source": [
        "student_scores = {(\"Alice\", \"Math\"): 95, (\"Bob\", \"Science\"): 88}"
      ],
      "metadata": {
        "id": "sMGK-7jV9Ugk"
      },
      "execution_count": 38,
      "outputs": []
    },
    {
      "cell_type": "code",
      "source": [
        "print(student_scores) #used in dictionary"
      ],
      "metadata": {
        "colab": {
          "base_uri": "https://localhost:8080/",
          "height": 0
        },
        "id": "85NDD_QL9l4T",
        "outputId": "7b23a59c-8557-4ca1-d81d-26de35a9507a"
      },
      "execution_count": 40,
      "outputs": [
        {
          "output_type": "stream",
          "name": "stdout",
          "text": [
            "{('Alice', 'Math'): 95, ('Bob', 'Science'): 88}\n"
          ]
        }
      ]
    },
    {
      "cell_type": "code",
      "source": [
        "#examples of tuples\n",
        "numbers = [1, 2, 2, 3, 4, 4, 5]\n",
        "unique_numbers = set(numbers)"
      ],
      "metadata": {
        "id": "ie3AriYM9ojm"
      },
      "execution_count": 42,
      "outputs": []
    },
    {
      "cell_type": "code",
      "source": [
        "print(unique_numbers)"
      ],
      "metadata": {
        "colab": {
          "base_uri": "https://localhost:8080/",
          "height": 0
        },
        "id": "U5Ds4MRu9x2Q",
        "outputId": "944fc3ab-0b85-4d5a-b9cb-b9217fc26140"
      },
      "execution_count": 44,
      "outputs": [
        {
          "output_type": "stream",
          "name": "stdout",
          "text": [
            "{1, 2, 3, 4, 5}\n"
          ]
        }
      ]
    },
    {
      "cell_type": "code",
      "source": [
        "3 in unique_numbers"
      ],
      "metadata": {
        "colab": {
          "base_uri": "https://localhost:8080/",
          "height": 0
        },
        "id": "VFYi19Mu94jF",
        "outputId": "6ac3c29c-89bd-41e6-cea3-980998b42398"
      },
      "execution_count": 45,
      "outputs": [
        {
          "output_type": "execute_result",
          "data": {
            "text/plain": [
              "True"
            ]
          },
          "metadata": {},
          "execution_count": 45
        }
      ]
    },
    {
      "cell_type": "code",
      "source": [
        "a=frozenset([1,2,3,4,5]) #frozenset is immutable"
      ],
      "metadata": {
        "id": "fO2IYIfG-Dw5"
      },
      "execution_count": 46,
      "outputs": []
    },
    {
      "cell_type": "code",
      "source": [
        "a"
      ],
      "metadata": {
        "colab": {
          "base_uri": "https://localhost:8080/",
          "height": 0
        },
        "id": "u3sMFIeP-L7w",
        "outputId": "ef987a40-fa6c-4fa4-8b99-4f851c66e4c5"
      },
      "execution_count": 47,
      "outputs": [
        {
          "output_type": "execute_result",
          "data": {
            "text/plain": [
              "frozenset({1, 2, 3, 4, 5})"
            ]
          },
          "metadata": {},
          "execution_count": 47
        }
      ]
    },
    {
      "cell_type": "code",
      "source": [
        "a.add(6)"
      ],
      "metadata": {
        "colab": {
          "base_uri": "https://localhost:8080/",
          "height": 146
        },
        "id": "EQWoYg7O-Mwk",
        "outputId": "2214f287-0182-4e91-829e-054b1166443c"
      },
      "execution_count": 55,
      "outputs": [
        {
          "output_type": "error",
          "ename": "AttributeError",
          "evalue": "'frozenset' object has no attribute 'add'",
          "traceback": [
            "\u001b[0;31m---------------------------------------------------------------------------\u001b[0m",
            "\u001b[0;31mAttributeError\u001b[0m                            Traceback (most recent call last)",
            "\u001b[0;32m<ipython-input-55-4151f9cc6697>\u001b[0m in \u001b[0;36m<cell line: 1>\u001b[0;34m()\u001b[0m\n\u001b[0;32m----> 1\u001b[0;31m \u001b[0ma\u001b[0m\u001b[0;34m.\u001b[0m\u001b[0madd\u001b[0m\u001b[0;34m(\u001b[0m\u001b[0;36m6\u001b[0m\u001b[0;34m)\u001b[0m\u001b[0;34m\u001b[0m\u001b[0;34m\u001b[0m\u001b[0m\n\u001b[0m",
            "\u001b[0;31mAttributeError\u001b[0m: 'frozenset' object has no attribute 'add'"
          ]
        }
      ]
    },
    {
      "cell_type": "markdown",
      "source": [
        "# Ques 7 - Describe how to add, modify, and delete items in a dictionary with examples.\n"
      ],
      "metadata": {
        "id": "hHvsI_Hr_H1X"
      }
    },
    {
      "cell_type": "code",
      "source": [
        "#answer7\n",
        "#example 1\n",
        "\n",
        "student_scores = {'name':'ram','age':20,'grade':'A'}\n",
        "type(student_scores)"
      ],
      "metadata": {
        "colab": {
          "base_uri": "https://localhost:8080/",
          "height": 0
        },
        "id": "uwARKtfM_Qt5",
        "outputId": "2f130755-7dbd-450e-9d70-c6a77d11a235"
      },
      "execution_count": 56,
      "outputs": [
        {
          "output_type": "execute_result",
          "data": {
            "text/plain": [
              "dict"
            ]
          },
          "metadata": {},
          "execution_count": 56
        }
      ]
    },
    {
      "cell_type": "code",
      "source": [
        "student_scores = {'name':'ram','age':20,'grade':'A'} #add element\n",
        "student_scores['city']='delhi'\n",
        "print(student_scores)"
      ],
      "metadata": {
        "colab": {
          "base_uri": "https://localhost:8080/",
          "height": 0
        },
        "id": "Zetr4rSG_skn",
        "outputId": "bfdba169-ff4b-4603-ab12-09434a529f83"
      },
      "execution_count": 57,
      "outputs": [
        {
          "output_type": "stream",
          "name": "stdout",
          "text": [
            "{'name': 'ram', 'age': 20, 'grade': 'A', 'city': 'delhi'}\n"
          ]
        }
      ]
    },
    {
      "cell_type": "code",
      "source": [
        "student_scores = {'name':'ram','age':20,'grade':'A'} #modify element\n",
        "student_scores['age']=21\n",
        "print(student_scores)"
      ],
      "metadata": {
        "colab": {
          "base_uri": "https://localhost:8080/",
          "height": 0
        },
        "id": "faXqFfOr_41Y",
        "outputId": "a0645963-4002-4b0d-a839-7af74a124465"
      },
      "execution_count": 58,
      "outputs": [
        {
          "output_type": "stream",
          "name": "stdout",
          "text": [
            "{'name': 'ram', 'age': 21, 'grade': 'A'}\n"
          ]
        }
      ]
    },
    {
      "cell_type": "code",
      "source": [
        "student_scores = {'name':'ram','age':20,'grade':'A'} #delete item\n",
        "del student_scores['grade']\n",
        "print(student_scores)"
      ],
      "metadata": {
        "colab": {
          "base_uri": "https://localhost:8080/",
          "height": 0
        },
        "id": "FISOciIBABfA",
        "outputId": "6ec826a5-2600-4ca9-d752-83496e110849"
      },
      "execution_count": 59,
      "outputs": [
        {
          "output_type": "stream",
          "name": "stdout",
          "text": [
            "{'name': 'ram', 'age': 20}\n"
          ]
        }
      ]
    },
    {
      "cell_type": "code",
      "source": [
        "#example 2\n",
        "\n",
        "z={'a':1,'b':2,'c':3} #add element\n",
        "z['d']=4\n",
        "print(z)"
      ],
      "metadata": {
        "colab": {
          "base_uri": "https://localhost:8080/",
          "height": 0
        },
        "id": "owDLy8xiAJSC",
        "outputId": "37fbf747-5df7-47bb-b15e-fd69581bfd6a"
      },
      "execution_count": 60,
      "outputs": [
        {
          "output_type": "stream",
          "name": "stdout",
          "text": [
            "{'a': 1, 'b': 2, 'c': 3, 'd': 4}\n"
          ]
        }
      ]
    },
    {
      "cell_type": "code",
      "source": [
        "z={'a':1,'b':2,'c':3} #modify element\n",
        "z['a']=5\n",
        "print(z)"
      ],
      "metadata": {
        "colab": {
          "base_uri": "https://localhost:8080/",
          "height": 0
        },
        "id": "crOFIcf3AkuX",
        "outputId": "4dc9b20a-5aa9-46fb-d937-ab5fc5af8ed4"
      },
      "execution_count": 61,
      "outputs": [
        {
          "output_type": "stream",
          "name": "stdout",
          "text": [
            "{'a': 5, 'b': 2, 'c': 3}\n"
          ]
        }
      ]
    },
    {
      "cell_type": "code",
      "source": [
        "z={'a':1,'b':2,'c':3} #del element\n",
        "del z['b']\n",
        "print(z)"
      ],
      "metadata": {
        "colab": {
          "base_uri": "https://localhost:8080/",
          "height": 0
        },
        "id": "f_nq6TnnAp2j",
        "outputId": "9acdf461-6aa4-425c-d6a6-3e27169353e0"
      },
      "execution_count": 62,
      "outputs": [
        {
          "output_type": "stream",
          "name": "stdout",
          "text": [
            "{'a': 1, 'c': 3}\n"
          ]
        }
      ]
    },
    {
      "cell_type": "markdown",
      "source": [],
      "metadata": {
        "id": "b5x7eR5UAzrB"
      }
    },
    {
      "cell_type": "markdown",
      "source": [
        "# Ques 8 -  Discuss the importance of dictionary keys being immutable and provide examples."
      ],
      "metadata": {
        "id": "nzYSzBgwB4ki"
      }
    },
    {
      "cell_type": "code",
      "source": [
        "'''\n",
        "answer 8\n",
        "\n",
        "mportance: Dictionary keys need to be immutable because they are used to organize and access the dictionary's data efficiently. If keys were mutable (changeable), it would be difficult for the dictionary to keep track of where things are stored.\n",
        "\n",
        "Examples:\n",
        "\n",
        "Good keys: strings, numbers, tuples (because they are immutable)\n",
        "Bad keys: lists, dictionaries (because they are mutable)\n",
        "\n",
        "'''"
      ],
      "metadata": {
        "id": "u10b665MB8db"
      },
      "execution_count": null,
      "outputs": []
    },
    {
      "cell_type": "code",
      "source": [
        "my_dict = {1:'value1','name':'alice',(1,2):'tuple'}\n",
        "print(my_dict)"
      ],
      "metadata": {
        "colab": {
          "base_uri": "https://localhost:8080/",
          "height": 0
        },
        "id": "-OSKSFGjCz51",
        "outputId": "58c2c10c-3e1b-46d3-8ed7-edc886a3a4fe"
      },
      "execution_count": 65,
      "outputs": [
        {
          "output_type": "stream",
          "name": "stdout",
          "text": [
            "{1: 'value1', 'name': 'alice', (1, 2): 'tuple'}\n"
          ]
        }
      ]
    },
    {
      "cell_type": "code",
      "source": [
        "my_dict2 ={[1,2]:'list'} #immutable key"
      ],
      "metadata": {
        "colab": {
          "base_uri": "https://localhost:8080/",
          "height": 146
        },
        "id": "iyV1ceSEDLY1",
        "outputId": "bd6901b5-4f38-4115-a073-5a8886afa1de"
      },
      "execution_count": 66,
      "outputs": [
        {
          "output_type": "error",
          "ename": "TypeError",
          "evalue": "unhashable type: 'list'",
          "traceback": [
            "\u001b[0;31m---------------------------------------------------------------------------\u001b[0m",
            "\u001b[0;31mTypeError\u001b[0m                                 Traceback (most recent call last)",
            "\u001b[0;32m<ipython-input-66-beaa1fdce66e>\u001b[0m in \u001b[0;36m<cell line: 1>\u001b[0;34m()\u001b[0m\n\u001b[0;32m----> 1\u001b[0;31m \u001b[0mmy_dict2\u001b[0m \u001b[0;34m=\u001b[0m\u001b[0;34m{\u001b[0m\u001b[0;34m[\u001b[0m\u001b[0;36m1\u001b[0m\u001b[0;34m,\u001b[0m\u001b[0;36m2\u001b[0m\u001b[0;34m]\u001b[0m\u001b[0;34m:\u001b[0m\u001b[0;34m'list'\u001b[0m\u001b[0;34m}\u001b[0m \u001b[0;31m#immutable key\u001b[0m\u001b[0;34m\u001b[0m\u001b[0;34m\u001b[0m\u001b[0m\n\u001b[0m",
            "\u001b[0;31mTypeError\u001b[0m: unhashable type: 'list'"
          ]
        }
      ]
    },
    {
      "cell_type": "code",
      "source": [],
      "metadata": {
        "id": "uo3QcK66DdZ9"
      },
      "execution_count": null,
      "outputs": []
    }
  ]
}