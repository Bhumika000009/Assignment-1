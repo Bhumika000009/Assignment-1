{
  "nbformat": 4,
  "nbformat_minor": 0,
  "metadata": {
    "colab": {
      "provenance": [],
      "authorship_tag": "ABX9TyNczID5IPOe8CwphP2eRDv/",
      "include_colab_link": true
    },
    "kernelspec": {
      "name": "python3",
      "display_name": "Python 3"
    },
    "language_info": {
      "name": "python"
    }
  },
  "cells": [
    {
      "cell_type": "markdown",
      "metadata": {
        "id": "view-in-github",
        "colab_type": "text"
      },
      "source": [
        "<a href=\"https://colab.research.google.com/github/Bhumika000009/Assignment-1/blob/main/Untitled9.ipynb\" target=\"_parent\"><img src=\"https://colab.research.google.com/assets/colab-badge.svg\" alt=\"Open In Colab\"/></a>"
      ]
    },
    {
      "cell_type": "code",
      "execution_count": null,
      "metadata": {
        "id": "ZYgtXtiwcTxe"
      },
      "outputs": [],
      "source": []
    },
    {
      "cell_type": "markdown",
      "source": [
        "Question1: Explain the different types of data (qualitative and quantitative) and provide examples of each. Discuss nominal, ordinal, interval, and ratio scales.\n",
        "\n",
        "Answer:\n",
        "\n",
        "Qualitative Data: Describes qualities or characteristics.\n",
        "\n",
        "Nominal: Categories with no inherent order.\n",
        "Example: Colors (red, blue, green), Gender (male, female)\n",
        "Ordinal: Categories with a meaningful order but undefined intervals.\n",
        "Example: Education Level (high school, bachelor's, master's), Customer Satisfaction (very satisfied, satisfied, neutral)\n",
        "Quantitative Data: Represents numerical values.\n",
        "\n",
        "Interval: Ordered data with consistent intervals but no true zero point.\n",
        "Example: Temperature (Celsius, Fahrenheit), Dates\n",
        "Ratio: Ordered data with consistent intervals and a true zero point.\n",
        "Example: Height, Weight, Age, Income"
      ],
      "metadata": {
        "id": "wXRK96apcz2g"
      }
    },
    {
      "cell_type": "markdown",
      "source": [
        "Question2: What are the measures of central tendency, and when should you use each? Discuss the mean, median, and mode with examples and situations where each is appropriate.\n",
        "\n",
        "Answer:\n",
        "\n",
        "Measures of Central Tendency: Describe the center of a dataset.\n",
        "\n",
        "Mean: Average of all values.\n",
        "Use When: Data is normally distributed and without significant outliers.\n",
        "Example: Calculating average student test scores.\n",
        "Median: Middle value when data is ordered.\n",
        "Use When: Data has outliers or is skewed.\n",
        "Example: Finding the typical house price in a market with extreme values.\n",
        "Mode: Most frequent value.\n",
        "Use When: Identifying the most common category or value.\n",
        "Example: Determining the most popular car color."
      ],
      "metadata": {
        "id": "DBMawGM4dCrm"
      }
    },
    {
      "cell_type": "markdown",
      "source": [
        "3. Explain the concept of dispersion. How do variance and standard deviation measure the spread of data?\n",
        "\n",
        "Answer:\n",
        "\n",
        "Dispersion refers to the spread or variability of data points around the central tendency.\n",
        "\n",
        "Variance: Measures the average squared difference of each data point from the mean. A higher variance indicates greater spread.\n",
        "Standard Deviation: The square root of the variance. Provides a more interpretable measure of spread in the original units of the data.\n",
        "In essence, variance and standard deviation quantify how much individual data points deviate from the average, giving you an idea of the data's overall spread or variability.\n",
        "\n",
        "4. What is a box plot, and what can it tell you about the distribution of data?\n",
        "\n",
        "Answer:\n",
        "\n",
        "A box plot (also called a box-and-whisker plot) is a graphical representation of the distribution of data based on five key summary statistics: minimum, first quartile (Q1), median, third quartile (Q3), and maximum.\n",
        "\n",
        "A box plot can tell you about:\n",
        "\n",
        "Central tendency: The median is shown by a line inside the box.\n",
        "Dispersion: The interquartile range (IQR = Q3 - Q1) is represented by the box's length, showing the spread of the middle 50% of the data.\n",
        "Skewness: The position of the median within the box and the lengths of the whiskers indicate if the data is skewed (asymmetrical).\n",
        "Outliers: Data points that fall significantly outside the whiskers are identified as potential outliers.\n",
        "5. Discuss the role of random sampling in making inferences about populations.\n",
        "\n",
        "Answer:\n",
        "\n",
        "Random sampling is a crucial technique in statistics where each member of a population has an equal chance of being selected for the sample.\n",
        "\n",
        "Its role in making inferences is:\n",
        "\n",
        "Representativeness: A random sample is more likely to be representative of the larger population, meaning it reflects the characteristics of the population accurately.\n",
        "Generalizability: Because of this representativeness, findings from a random sample can be generalized (or inferred) to the broader population with a certain level of confidence.\n",
        "Reducing Bias: Random sampling helps minimize bias, ensuring that the sample isn't skewed towards specific subgroups within the population.\n",
        "In short, random sampling enables us to draw conclusions about an entire population based on the analysis of a smaller, randomly selected subset."
      ],
      "metadata": {
        "id": "xqYNYo_bc8kj"
      }
    },
    {
      "cell_type": "markdown",
      "source": [
        "6. Explain the concept of skewness and its types. How does skewness affect the interpretation of data?\n",
        "\n",
        "Answer:\n",
        "\n",
        "Skewness refers to the asymmetry of the distribution of data. It indicates whether the data is concentrated more on one side of the mean than the other.\n",
        "\n",
        "Types of Skewness:\n",
        "\n",
        "Positive Skew (Right Skew): The tail of the distribution is longer on the right side, meaning there are more extreme values on the high end.\n",
        "Negative Skew (Left Skew): The tail is longer on the left side, indicating more extreme values on the low end.\n",
        "Impact on Interpretation:\n",
        "\n",
        "Skewness can distort the interpretation of data because it affects measures of central tendency. For instance, in a positively skewed distribution, the mean is typically greater than the median, which can lead to overestimation if the mean is used as the central measure.\n",
        "\n",
        "7. What is the interquartile range (IQR), and how is it used to detect outliers?\n",
        "\n",
        "Answer:\n",
        "\n",
        "The Interquartile Range (IQR) is the difference between the third quartile (Q3) and the first quartile (Q1) of a dataset. It represents the spread of the middle 50% of the data.\n",
        "\n",
        "Outlier Detection:\n",
        "\n",
        "The IQR is used to identify potential outliers using the following rule:\n",
        "\n",
        "Outliers: Data points that fall below Q1 - 1.5 * IQR or above Q3 + 1.5 * IQR are considered outliers.\n",
        "8. Discuss the conditions under which the binomial distribution is used.\n",
        "\n",
        "Answer:\n",
        "\n",
        "The binomial distribution is used to model the probability of a certain number of successes in a fixed number of independent trials, where each trial has only two possible outcomes (success or failure), and the probability of success remains constant across trials.\n",
        "\n",
        "Conditions for Use:\n",
        "\n",
        "Fixed number of trials (n)\n",
        "Independent trials\n",
        "Two outcomes (success or failure)\n",
        "Constant probability of success (p)\n",
        "9. Explain the properties of the normal distribution and the empirical rule (68-95-99.7 rule).\n",
        "\n",
        "Answer:\n",
        "\n",
        "The normal distribution is a bell-shaped, symmetrical probability distribution that is widely used in statistics.\n",
        "\n",
        "Properties:\n",
        "\n",
        "Bell-shaped and symmetrical\n",
        "Mean, median, and mode are equal and located at the center\n",
        "Total area under the curve is 1\n",
        "Empirical Rule (68-95-99.7 Rule):\n",
        "\n",
        "68% of the data falls within 1 standard deviation of the mean.\n",
        "95% of the data falls within 2 standard deviations of the mean.\n",
        "99.7% of the data falls within 3 standard deviations of the mean."
      ],
      "metadata": {
        "id": "dh0Q8SRvdLS3"
      }
    },
    {
      "cell_type": "markdown",
      "source": [
        "10. Provide a real-life example of a Poisson process and calculate the probability for a specific event.\n",
        "\n",
        "Answer:\n",
        "\n",
        "Example: The number of customers arriving at a store per hour can be modeled as a Poisson process.\n",
        "\n",
        "Calculation:\n",
        "\n",
        "Let's say the average arrival rate (λ) is 5 customers per hour. We want to find the probability of exactly 3 customers arriving in the next hour."
      ],
      "metadata": {
        "id": "FLXEMOX6dEOg"
      }
    },
    {
      "cell_type": "code",
      "source": [
        "import math\n",
        "\n",
        "def poisson_probability(k, lam):\n",
        "  return (math.exp(-lam) * (lam ** k)) / math.factorial(k)\n",
        "\n",
        "probability = poisson_probability(3, 5) # k = 3, lam = 5\n",
        "# To see the output, run the code.\n"
      ],
      "metadata": {
        "id": "KaQ_WzeNdvTY"
      },
      "execution_count": 1,
      "outputs": []
    },
    {
      "cell_type": "markdown",
      "source": [
        "11. Explain what a random variable is and differentiate between discrete and continuous random variables.\n",
        "\n",
        "Answer:\n",
        "\n",
        "A random variable is a variable whose value is a numerical outcome of a random phenomenon.\n",
        "\n",
        "Types:\n",
        "\n",
        "Discrete Random Variable: Takes on a finite or countable number of values.\n",
        "Example: Number of heads in coin flips.\n",
        "Continuous Random Variable: Can take on any value within a given range.\n",
        "Example: Height of a person.\n"
      ],
      "metadata": {
        "id": "-02y8JPndvz7"
      }
    },
    {
      "cell_type": "markdown",
      "source": [
        "12. Provide an example dataset, calculate both covariance and correlation, and interpret the results.\n",
        "\n",
        "Answer:\n",
        "\n",
        "Dataset:\n",
        "\n",
        "\n",
        "X (Hours Studied): [2, 4, 6, 8, 10] Y (Exam Score): [60, 70, 80, 90, 100]\n",
        "\n",
        "Calculations:"
      ],
      "metadata": {
        "id": "0rOs50kKeBOr"
      }
    },
    {
      "cell_type": "code",
      "source": [
        "import numpy as np\n",
        "X = [2, 4, 6, 8, 10]\n",
        "Y = [60, 70, 80, 90, 100]\n",
        "covariance = np.cov(X, Y, bias=True)[0][1]\n",
        "correlation = np.corrcoef(X, Y)[0][1]\n",
        "# To see the output, run the code.\n"
      ],
      "metadata": {
        "id": "rQq48JOIeYqS"
      },
      "execution_count": 3,
      "outputs": []
    },
    {
      "cell_type": "markdown",
      "source": [
        "Interpretation:\n",
        "\n",
        "Covariance: Positive, indicating that study hours and exam scores tend to increase together.\n",
        "Correlation: Likely near +1, showing a strong, positive linear relationship. More study hours generally lead to higher exam scores.\n"
      ],
      "metadata": {
        "id": "tFqIvS7yefHr"
      }
    },
    {
      "cell_type": "code",
      "source": [],
      "metadata": {
        "colab": {
          "base_uri": "https://localhost:8080/",
          "height": 109
        },
        "id": "dAzHAU5eeDik",
        "outputId": "5212f135-42d3-44bc-def8-ae4fc9b57a03"
      },
      "execution_count": 2,
      "outputs": [
        {
          "output_type": "error",
          "ename": "SyntaxError",
          "evalue": "incomplete input (<ipython-input-2-eee384b542e4>, line 4)",
          "traceback": [
            "\u001b[0;36m  File \u001b[0;32m\"<ipython-input-2-eee384b542e4>\"\u001b[0;36m, line \u001b[0;32m4\u001b[0m\n\u001b[0;31m    Y = [60,\u001b[0m\n\u001b[0m             ^\u001b[0m\n\u001b[0;31mSyntaxError\u001b[0m\u001b[0;31m:\u001b[0m incomplete input\n"
          ]
        }
      ]
    }
  ]
}